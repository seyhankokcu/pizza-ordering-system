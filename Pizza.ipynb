{
  "cells": [
    {
      "cell_type": "markdown",
      "metadata": {
        "id": "view-in-github",
        "colab_type": "text"
      },
      "source": [
        "<a href=\"https://colab.research.google.com/github/seyhankokcu/pizza-ordering-system/blob/main/Pizza.ipynb\" target=\"_parent\"><img src=\"https://colab.research.google.com/assets/colab-badge.svg\" alt=\"Open In Colab\"/></a>"
      ]
    },
    {
      "cell_type": "markdown",
      "metadata": {
        "id": "TF_DAMiWLSm1"
      },
      "source": [
        "# **Pizza Ordering System**"
      ]
    },
    {
      "cell_type": "markdown",
      "source": [
        "Gerekli kütüphanenin dosyaya dahil edilmesi.\n",
        "* csv formatında yazabilmek için **csv**.\n",
        "* zaman verisini alabilmek için **datetime**.\n",
        "* zaman dilimini alabilmek için **pytz**."
      ],
      "metadata": {
        "id": "uiyUCCjWeep3"
      }
    },
    {
      "cell_type": "code",
      "execution_count": 1,
      "metadata": {
        "id": "GFkctUrcImV2"
      },
      "outputs": [],
      "source": [
        "import csv\n",
        "from datetime import datetime as dt\n",
        "from pytz import timezone as tz"
      ]
    },
    {
      "cell_type": "markdown",
      "source": [
        "  Pizza sınıfının ve **get_cost**, **get_description** methodlarının tanımlanması.\n",
        "\n",
        "  Ardından Pizza türleri için alt sınıfların oluşturulması.\n",
        "\n",
        "  Gerekli bileşenler için bir üst sınıf ve her biri için alt sınıf oluşturulması.\n",
        "\n",
        "  "
      ],
      "metadata": {
        "id": "TghzXhe9fdyh"
      }
    },
    {
      "cell_type": "code",
      "execution_count": 39,
      "metadata": {
        "id": "w-g2foE-H_Bi"
      },
      "outputs": [],
      "source": [
        "class Pizza:\n",
        "\n",
        "  def get_cost(self):\n",
        "    return self._cost\n",
        "  \n",
        "  def get_description(self):\n",
        "    return self._description\n",
        "\n",
        "class Klasik(Pizza):\n",
        "  def __init__(self):\n",
        "    self._cost = 120\n",
        "    self._description = \"Genellikle ince hamurlu, domates soslu ve mozarella peynirli bir İtalyan pizzasıdır. Üzerine farklı malzemeler eklenerek çeşitli tatlar elde edilebilir. Klasik pizza, dünya genelinde en popüler yemeklerden biridir.\"\n",
        "\n",
        "class Margarita(Pizza):\n",
        "  def __init__(self):\n",
        "    self._cost = 150\n",
        "    self._description = \"İtalya'nın Napoli bölgesinden gelir ve adını İtalya Kraliçesi Margherita'dan alır. Margarita pizza, ince hamurlu, domates soslu ve fırınlanmış mozarella peynirli bir pizzadır. Üzerine taze fesleğen yaprakları eklenir ve yeşil, beyaz ve kırmızı renkleri ile İtalya bayrağına benzer bir görünümü vardır.\"\n",
        "\n",
        "class TurkPizza(Pizza):\n",
        "  def __init__(self):\n",
        "    self._cost = 130\n",
        "    self._description = \"Türk mutfağından bir pizzadır. İnce hamurlu ve genellikle lavaş gibi katlanmış bir yapısı vardır. Üzerine kıymalı, peynirli ve sebzeli malzemeler eklenir. Bazı yerlerde sucuk, biber, domates, soğan gibi malzemeler de kullanılabilir. Türk pizzası, genellikle üçgen veya dikdörtgen şeklinde kesilir.\"\n",
        "\n",
        "class SadePizza(Pizza):\n",
        "  def __init__(self):\n",
        "    self._cost = 110\n",
        "    self._description = \"Temel olarak sadece domates soslu ve peynirli bir pizzadır. İnce hamuru ve basit malzemeleri nedeniyle, bazı kişiler tarafından daha hafif ve sağlıklı bir seçenek olarak tercih edilir. Sade pizza, farklı malzemeler eklenmeden de lezzetli olabilir ve genellikle çocuklar tarafından sevilir.\"\n",
        "\n",
        "class component(Pizza):\n",
        "  pass\n",
        "\n",
        "class Zeytin(component):\n",
        "  def __init__(self):\n",
        "    self._cost = 12\n",
        "    self._description = \"Zeytin\"\n",
        "\n",
        "class Mantarlar(component):\n",
        "  def __init__(self):\n",
        "    self._cost = 13\n",
        "    self._description = \"Mantarlar\"\n",
        "\n",
        "class KeciPeyniri(component):\n",
        "  def __init__(self):\n",
        "    self._cost = 14\n",
        "    self._description = \"Keçi Peyniri\"\n",
        "\n",
        "class Et(component):\n",
        "  def __init__(self):\n",
        "    self._cost = 15\n",
        "    self._description = \"Et\"\n",
        "\n",
        "class Sogan(component):\n",
        "  def __init__(self):\n",
        "    self._cost = 16\n",
        "    self._description = \"Soğan\"\n",
        "\n",
        "class Misir(component):\n",
        "  def __init__(self):\n",
        "    self._cost = 17\n",
        "    self._description = \"Mısır\"\n"
      ]
    },
    {
      "cell_type": "markdown",
      "source": [
        "Kullanıcıdan aldığımız ismi biçimlendiren fonksiyon."
      ],
      "metadata": {
        "id": "btVLaNUGfu3j"
      }
    },
    {
      "cell_type": "code",
      "execution_count": 40,
      "metadata": {
        "id": "p1xjvYxwVBi9"
      },
      "outputs": [],
      "source": [
        "def formatName(nameParam):\n",
        "  name = nameParam.title().split()\n",
        "  result = \" \".join(name)\n",
        "  return result"
      ]
    },
    {
      "cell_type": "markdown",
      "source": [
        "Kullanıcıdan aldığımız ismin doğruluğunu kontrol eden fonksiyon."
      ],
      "metadata": {
        "id": "p6WMTYmIf1O3"
      }
    },
    {
      "cell_type": "code",
      "execution_count": 55,
      "metadata": {
        "id": "B1WQC_O6SCca"
      },
      "outputs": [],
      "source": [
        "def verifyName(nameParam):\n",
        "  condition1 = all((map(lambda x: x.isalpha() or x == \" \", nameParam)))\n",
        "  condition2 = True if 1 < len(nameParam) < 24 else False\n",
        "  return True if condition1 and condition2 else False"
      ]
    },
    {
      "cell_type": "markdown",
      "source": [
        "Kullanıcıdan aldığımız kart bilgilerinin doğruluğunu kontrol eden fonksiyon."
      ],
      "metadata": {
        "id": "FlLU8JcxgDB8"
      }
    },
    {
      "cell_type": "code",
      "execution_count": 56,
      "metadata": {
        "id": "AXL_j1laP0WN"
      },
      "outputs": [],
      "source": [
        "def verifyCardNo(cardNoParam):\n",
        "  cardNum = \"\".join([num for num in cardNoParam if num.isnumeric()])\n",
        "  total = 0\n",
        "\n",
        "  for id, num in enumerate(cardNum):\n",
        "    num = int(num)\n",
        "    if id % 2 == 0:\n",
        "      tempNum = num*2\n",
        "      if tempNum > 9:\n",
        "        total += sum([int(n) for n in str(tempNum)])\n",
        "      else:\n",
        "        total += tempNum\n",
        "    else:\n",
        "      total += num\n",
        "  return True if total % 10 == 0 else False"
      ]
    },
    {
      "cell_type": "markdown",
      "source": [
        "Kullanıcıdan aldığımız kart bilgilerini biçimlendiren fonksiyon."
      ],
      "metadata": {
        "id": "qHSBa6GkgEaz"
      }
    },
    {
      "cell_type": "code",
      "execution_count": 57,
      "metadata": {
        "id": "SFjVJIFeklqn"
      },
      "outputs": [],
      "source": [
        "def formatCardNo(cardNoParam):\n",
        "  cardNum = \"\".join([num for num in cardNoParam if num.isnumeric()])\n",
        "  result = \"\"\n",
        "  for id, ch in enumerate(cardNum):\n",
        "    if id % 4 == 0:\n",
        "      result += \" \"\n",
        "    result += ch\n",
        "  return result"
      ]
    },
    {
      "cell_type": "markdown",
      "source": [
        "Kullanıcıdan aldığımız kart şifresinin doğruluğunu kontrol eden fonksiyon."
      ],
      "metadata": {
        "id": "6JhFGhVCgKhi"
      }
    },
    {
      "cell_type": "code",
      "execution_count": 8,
      "metadata": {
        "id": "uwODI81bMLX_"
      },
      "outputs": [],
      "source": [
        "def verifyCardPaswd(passwdParam):\n",
        "  return True if len(passwdParam) == 4 and all(map(lambda x: x.isnumeric(), passwdParam)) else False"
      ]
    },
    {
      "cell_type": "markdown",
      "source": [
        "Kullanıcıdan aldığımız TC No bilgisini doğrulayan fonksiyon."
      ],
      "metadata": {
        "id": "zBWcd3kcgSwO"
      }
    },
    {
      "cell_type": "code",
      "execution_count": 9,
      "metadata": {
        "id": "aEaYQ7KpMWaD"
      },
      "outputs": [],
      "source": [
        "def verifyId(idParam):\n",
        "  if idParam.isnumeric() and len(idParam) == 11:\n",
        "    oddNumbers = 0\n",
        "    evenNumbers = 0\n",
        "    totalNumbers = 0\n",
        "\n",
        "    for character in range(0, 9, 2):\n",
        "        oddNumbers += int(idParam[character])\n",
        "\n",
        "    for character in range(1, 9, 2):\n",
        "        evenNumbers += int(idParam[character])\n",
        "\n",
        "    for character in range(10):\n",
        "        totalNumbers += int(idParam[character])\n",
        "\n",
        "    if str((oddNumbers * 7 - evenNumbers) % 10) == idParam[9] and str(totalNumbers % 10) == idParam[10]:\n",
        "        return True\n",
        "  return False"
      ]
    },
    {
      "cell_type": "markdown",
      "source": [
        "Kullancıdan pizza seçtiren fonksiyon."
      ],
      "metadata": {
        "id": "yg9Woh-LgY21"
      }
    },
    {
      "cell_type": "code",
      "execution_count": 10,
      "metadata": {
        "id": "zdOfzf818nND"
      },
      "outputs": [],
      "source": [
        "def pizzaSelect(inputParam):\n",
        "  input = inputParam.title()\n",
        "\n",
        "  if input == \"Klasik\":\n",
        "    return Klasik()\n",
        "\n",
        "  elif input == \"Margarita\":\n",
        "    return Margarita()\n",
        "\n",
        "  elif input == \"Türk Pizza\":\n",
        "    return TurkPizza()\n",
        "\n",
        "  elif input == \"Sade Pizza\":\n",
        "    return SadePizza()\n",
        "  \n",
        "  else:\n",
        "    return 0"
      ]
    },
    {
      "cell_type": "markdown",
      "source": [
        "Kullanıcıdan bileşen seçtiren fonksiyon."
      ],
      "metadata": {
        "id": "c9Vbw9LqgddI"
      }
    },
    {
      "cell_type": "code",
      "execution_count": 11,
      "metadata": {
        "id": "HK2GwNauAnoq"
      },
      "outputs": [],
      "source": [
        "def componentSelect(inputParam):\n",
        "  input = inputParam.title()\n",
        "\n",
        "  if input == \"Zeytin\":\n",
        "    return Zeytin()\n",
        "\n",
        "  elif input == \"Mantarlar\":\n",
        "    return Mantarlar()\n",
        "\n",
        "  elif input == \"Keçi Peyniri\":\n",
        "    return KeciPeyniri()\n",
        "\n",
        "  elif input == \"Et\":\n",
        "    return Et()\n",
        "\n",
        "  elif input == \"Soğan\":\n",
        "    return Sogan()\n",
        "\n",
        "  elif input == \"Mısır\":\n",
        "    return Misir()\n",
        "\n",
        "  else:\n",
        "    return 0"
      ]
    },
    {
      "cell_type": "markdown",
      "source": [
        "Kullanıcıdan aldığımız bilgileri csv dosyasına yazan fonksiyon."
      ],
      "metadata": {
        "id": "bAITycW4ggpM"
      }
    },
    {
      "cell_type": "code",
      "execution_count": 12,
      "metadata": {
        "id": "GSWdKDhTImK0"
      },
      "outputs": [],
      "source": [
        "def writeToFile(dataParam):\n",
        "  with open(\"Orders_Database.csv\", \"a+\") as fileObject:\n",
        "\n",
        "    header = ['İsim', 'TC Kimlik Numarası', 'Kart Numarası', 'Kart Şifres', \"Pizza İsmi\", \"Sipariş Detayları\", \"Bileşen\", \"Toplam Ücret\", \"Sipariş Zamanı\"]\n",
        "    name, idNumber, cardNumber, cardPasswd, pizza, details, component, price, orderTime = dataParam\n",
        "    data = [name, idNumber, cardNumber, cardPasswd, pizza, details, component, f\"{price} ₺\", orderTime]\n",
        "\n",
        "    writer = csv.writer(fileObject)\n",
        "\n",
        "    fileObject.seek(0)\n",
        "    if len(fileObject.read()) == 0:\n",
        "      writer.writerow(header)\n",
        "\n",
        "    writer.writerow(data)"
      ]
    },
    {
      "cell_type": "markdown",
      "source": [
        "Menüyü ekrana yazdıran ve kullanıcıdan bilgileri alıp dosyaya yazan main foknsiyonumuz."
      ],
      "metadata": {
        "id": "dd-LBYgwgmq0"
      }
    },
    {
      "cell_type": "code",
      "execution_count": 13,
      "metadata": {
        "id": "PwBbd6S2ImQI"
      },
      "outputs": [],
      "source": [
        "def main():\n",
        "  with open(\"menu.txt\") as fileObject:\n",
        "    menu = fileObject.read()\n",
        "    idx = [i for i, ch in enumerate(menu) if ch == \"*\"]\n",
        "    menu1 = menu[idx[0]:idx[1]]\n",
        "    menu2 = menu[idx[1]:idx[2]]\n",
        "    menu3 = menu[idx[2]:]\n",
        "\n",
        "    print(menu1)\n",
        "    while True: \n",
        "      pizza = input(\"Pizza: \")\n",
        "      if type(pizzaSelect(pizza)) != int:\n",
        "        pizza = pizza.title()\n",
        "        pizzaObj = pizzaSelect(pizza)\n",
        "        break\n",
        "      print(\"Lütfen menüde olan bir pizza girin.\")\n",
        "\n",
        "    print(menu2)\n",
        "    while True: \n",
        "      component = input(\"Bileşen: \")\n",
        "      if type(componentSelect(component)) != int:\n",
        "        component = component.title()\n",
        "        componentObj = componentSelect(component)\n",
        "        break\n",
        "      print(\"Lütfen menüde olan bir bileşen girin.\")\n",
        "\n",
        "    while True:\n",
        "      name = input(\"İsim: \")\n",
        "      if verifyName(name):\n",
        "        name = formatName(name)\n",
        "        break\n",
        "      print(\"Lütfen geçerli bir isim girin.\")\n",
        "\n",
        "\n",
        "    while True:\n",
        "      idNumber = input(\"TC No: \")\n",
        "      if verifyId(idNumber):\n",
        "        break\n",
        "      else:\n",
        "        print(\"Lütfen geçerli bir TC kimlik numarası girin.\")\n",
        "\n",
        "    while True:\n",
        "      cardNumber = input(\"Kart No: \")\n",
        "      if verifyCardNo(cardNumber):\n",
        "        cardNumber = formatCardNo(cardNumber)\n",
        "        break\n",
        "      else:\n",
        "        print(\"Lütfen geçerli bir kart numarası numarası girin.\")\n",
        "\n",
        "    while True:\n",
        "      cardPasswd = input(\"Kart Şifresi: \")\n",
        "      if verifyCardPaswd(cardPasswd):\n",
        "        break\n",
        "      else:\n",
        "        print(\"Lütfen geçerli bir kart şifresi girin.\")\n",
        "\n",
        "    details = f\"Pizza açıklaması: {pizzaObj.get_description()} Bileşenler: {componentObj.get_description()}\"\n",
        "    price = pizzaObj.get_cost()+componentObj.get_cost()\n",
        "    orderTime = dt.now(tz('Turkey')).strftime(\"%H:%M:%S\")\n",
        "    data = [name, idNumber, cardNumber, cardPasswd, pizza, details, component, price, orderTime]\n",
        "    writeToFile(data)\n",
        "\n",
        "    print(menu3)"
      ]
    },
    {
      "cell_type": "markdown",
      "source": [
        "Main fonksiyonunu çağırıyoruz."
      ],
      "metadata": {
        "id": "F_T0LZoLgukb"
      }
    },
    {
      "cell_type": "code",
      "execution_count": 58,
      "metadata": {
        "colab": {
          "base_uri": "https://localhost:8080/"
        },
        "id": "4b5qlxNwImNU",
        "outputId": "3d14ffb7-487b-4ec1-80ae-d3c05ecb12f4"
      },
      "outputs": [
        {
          "output_type": "stream",
          "name": "stdout",
          "text": [
            "* Lütfen Bir Pizza Tabanı Seçiniz:\n",
            "1: Klasik\n",
            "2: Margarita\n",
            "3: TürkPizza\n",
            "4: Sade Pizza\n",
            "\n",
            "Pizza: klasik\n",
            "* ve seçeceğiniz sos:\n",
            "11: Zeytin\n",
            "12: Mantarlar\n",
            "13: Keçi Peyniri\n",
            "14: Et\n",
            "15: Soğan\n",
            "16: Mısır\n",
            "\n",
            "Bileşen: zeytin\n",
            "İsim: seyhan kökcü\n",
            "TC No: 45274862265\n",
            "Kart No: 5526080000000006\n",
            "Kart Şifresi: 5332\n",
            "* Teşekkür ederiz!\n",
            "\n"
          ]
        }
      ],
      "source": [
        "main()"
      ]
    }
  ],
  "metadata": {
    "colab": {
      "provenance": [],
      "include_colab_link": true
    },
    "kernelspec": {
      "display_name": "Python 3",
      "name": "python3"
    },
    "language_info": {
      "name": "python"
    }
  },
  "nbformat": 4,
  "nbformat_minor": 0
}
